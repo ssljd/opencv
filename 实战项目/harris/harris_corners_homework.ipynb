{
 "cells": [
  {
   "cell_type": "code",
   "execution_count": 1,
   "id": "34eef224",
   "metadata": {},
   "outputs": [
    {
     "name": "stderr",
     "output_type": "stream",
     "text": [
      "d:\\Anaconda3\\envs\\PyTorch\\lib\\site-packages\\numpy\\_distributor_init.py:32: UserWarning: loaded more than 1 DLL from .libs:\n",
      "d:\\Anaconda3\\envs\\PyTorch\\lib\\site-packages\\numpy\\.libs\\libopenblas.TXA6YQSD3GCQQC22GEQ54J2UDCXDXHWN.gfortran-win_amd64.dll\n",
      "d:\\Anaconda3\\envs\\PyTorch\\lib\\site-packages\\numpy\\.libs\\libopenblas.XWYDX2IKJW2NMTWSFYNGFUWKQU3LYTCZ.gfortran-win_amd64.dll\n",
      "  stacklevel=1)\n"
     ]
    }
   ],
   "source": [
    "import cv2\n",
    "import numpy as np\n",
    "import sys\n",
    "import getopt\n",
    "import operator"
   ]
  },
  {
   "cell_type": "code",
   "execution_count": 2,
   "id": "3aea12ff",
   "metadata": {},
   "outputs": [],
   "source": [
    "def readImage(filename):\n",
    "    \"\"\"\n",
    "     Read in an image file, errors out if we can't find the file\n",
    "    :param filename:\n",
    "    :return: Img object if filename is found\n",
    "    \"\"\"\n",
    "    img = cv2.imread(filename, 0)\n",
    "    if img is None:\n",
    "        print('Invalid image:' + filename)\n",
    "        return None\n",
    "    else:\n",
    "        print('Image successfully read...')\n",
    "        return img"
   ]
  },
  {
   "cell_type": "code",
   "execution_count": 3,
   "id": "1c733069",
   "metadata": {},
   "outputs": [],
   "source": [
    "def findCorners(img, window_size, k, thresh):\n",
    "    \"\"\"\n",
    "    Finds and returns list of corners and new image with corners drawn\n",
    "    :param img: The original image\n",
    "    :param window_size: The size (side length) of the sliding window\n",
    "    :param k: Harris corner constant. Usually 0.04 - 0.06\n",
    "    :param thresh: The threshold above which a corner is counted\n",
    "    :return:\n",
    "    \"\"\"\n",
    "    d_y, d_x = np.gradient(img)\n",
    "    Ixx = d_x ** 2\n",
    "    Ixy = d_y * d_x\n",
    "    Iyy = d_y ** 2\n",
    "    h = img.shape[0]\n",
    "    w = img.shape[1]\n",
    "\n",
    "    cornerList = []\n",
    "    newimg = img.copy()\n",
    "    color_img = cv2.cvtColor(newimg, cv2.COLOR_GRAY2RGB)\n",
    "    offset = window_size // 2\n",
    "\n",
    "    for y in range(offset, h - offset):\n",
    "        for x in range(offset, w - offset):\n",
    "            # Calculate sum of squares\n",
    "            windowIxx = Ixx[y - offset:y + offset + 1, x - offset:x + offset + 1]\n",
    "            windowIxy = Ixy[y - offset:y + offset + 1, x - offset:x + offset + 1]\n",
    "            windowIyy = Iyy[y - offset:y + offset + 1, x - offset:x + offset + 1]\n",
    "            Sxx = windowIxx.sum()\n",
    "            Sxy = windowIxy.sum()\n",
    "            Syy = windowIyy.sum()\n",
    "\n",
    "            # Find determinant and trace, use to get corner response\n",
    "            det = (Sxx * Syy) - (Sxy ** 2)\n",
    "            trace = Sxx + Syy\n",
    "            r = det - k * (trace ** 2)\n",
    "\n",
    "            # If corner response is over threshold, color the point and add to corner list\n",
    "            if r > thresh:\n",
    "                #print (x, y, r)\n",
    "                cornerList.append([x, y, r])\n",
    "                color_img.itemset((y, x, 0), 100)  #b\n",
    "                color_img.itemset((y, x, 1), 0)    #g\n",
    "                color_img.itemset((y, x, 2), 255)  #r\n",
    "    \n",
    "    return color_img, cornerList"
   ]
  },
  {
   "cell_type": "code",
   "execution_count": 4,
   "id": "9862f81e",
   "metadata": {},
   "outputs": [
    {
     "name": "stdout",
     "output_type": "stream",
     "text": [
      "Image successfully read...\n"
     ]
    }
   ],
   "source": [
    "img = readImage(\"./img/harris.png\")"
   ]
  },
  {
   "cell_type": "code",
   "execution_count": 5,
   "id": "0b91dd69",
   "metadata": {},
   "outputs": [],
   "source": [
    "window_size = 5\n",
    "k = .04 #Corner Response\n",
    "thresh = 10000 #Corner Response Threshold"
   ]
  },
  {
   "cell_type": "code",
   "execution_count": 6,
   "id": "cae618a5",
   "metadata": {},
   "outputs": [
    {
     "name": "stdout",
     "output_type": "stream",
     "text": [
      "Shape: (384, 384)\n",
      "Size: 147456\n",
      "Type: uint8\n",
      "Printing Original Image...\n",
      "[[  0   0   0 ... 255 255 255]\n",
      " [  0   0   0 ... 255 255 255]\n",
      " [  0   0   0 ... 255 255 255]\n",
      " ...\n",
      " [255 255 255 ...   0   0   0]\n",
      " [255 255 255 ...   0   0   0]\n",
      " [255 255 255 ...   0   0   0]]\n"
     ]
    }
   ],
   "source": [
    "if img is not None:\n",
    "        if len(img.shape) == 3:\n",
    "            img = cv2.cvtColor(img, cv2.COLOR_RGB2GRAY)\n",
    "        if len(img.shape) == 4:\n",
    "            img = cv2.cvtColor(img, cv2.COLOR_RGBA2GRAY)\n",
    "        print(\"Shape: \" + str(img.shape))\n",
    "        print(\"Size: \" + str(img.size))\n",
    "        print(\"Type: \" + str(img.dtype)) \n",
    "        print(\"Printing Original Image...\")\n",
    "        print(img)\n",
    "        finalImg, cornerList = findCorners(img, window_size, k, thresh)\n",
    "        if finalImg is not None:\n",
    "            cv2.imwrite(\"finalimage.png\", finalImg)\n",
    "\n",
    "        # Write top 100 corners to file\n",
    "        cornerList.sort(key=operator.itemgetter(2))\n",
    "        outfile = open('corners.txt', 'w')\n",
    "        for i in range(100):\n",
    "            outfile.write(str(cornerList[i][0]) + ' ' + str(cornerList[i][1]) + ' ' + str(cornerList[i][2]) + '\\n')\n",
    "        outfile.close()"
   ]
  }
 ],
 "metadata": {
  "kernelspec": {
   "display_name": "Python 3 (ipykernel)",
   "language": "python",
   "name": "python3"
  },
  "language_info": {
   "codemirror_mode": {
    "name": "ipython",
    "version": 3
   },
   "file_extension": ".py",
   "mimetype": "text/x-python",
   "name": "python",
   "nbconvert_exporter": "python",
   "pygments_lexer": "ipython3",
   "version": "3.7.13"
  }
 },
 "nbformat": 4,
 "nbformat_minor": 5
}
